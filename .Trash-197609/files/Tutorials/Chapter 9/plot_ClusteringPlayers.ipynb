{
 "cells": [
  {
   "cell_type": "code",
   "execution_count": 1,
   "metadata": {
    "collapsed": false,
    "jupyter": {
     "outputs_hidden": false
    }
   },
   "outputs": [],
   "source": [
    "%matplotlib inline"
   ]
  },
  {
   "cell_type": "markdown",
   "metadata": {},
   "source": [
    "\n",
    "# Clustering players\n",
    "In this tutorial we show how to cluster players to positions using their statistics. We will use a dataset provided by\n",
    "Ronan Manning with statistics for everty top 5 leagues player, which is available [here](https://twitter.com/ronanmann/status/1408504415690969089?s=21).\n",
    "This tutorial is inspired by John Muller's article on The Athletic [Introducing The Athletics 18 player roles](https://theathletic.com/3473297/2022/08/10/player-roles-the-athletic/).\n"
   ]
  },
  {
   "cell_type": "code",
   "execution_count": 2,
   "metadata": {
    "collapsed": false,
    "jupyter": {
     "outputs_hidden": false
    }
   },
   "outputs": [],
   "source": [
    "#importing necessary libraries\n",
    "import pandas as pd\n",
    "import numpy as np\n",
    "import warnings \n",
    "import matplotlib.pyplot as plt\n",
    "from mplsoccer import Pitch\n",
    "import os\n",
    "import pathlib\n",
    "import json\n",
    "\n",
    "pd.options.mode.chained_assignment = None\n",
    "warnings.filterwarnings('ignore')\n",
    "os.environ['TF_CPP_MIN_LOG_LEVEL'] = '3' \n",
    "np.random.seed(4)"
   ]
  },
  {
   "cell_type": "markdown",
   "metadata": {},
   "source": [
    "## Preparing the dataset\n",
    "\n",
    "We open the data and change minutes played to integers. Then, we keep ony players who played more than 500 minutes.\n",
    "As the next step, we convert all data to numeric format and replace NaN with 0. Last but not least, \n",
    "we keep only columns\n",
    "with player statistics.\n",
    "\n"
   ]
  },
  {
   "cell_type": "code",
   "execution_count": 13,
   "metadata": {
    "collapsed": false,
    "jupyter": {
     "outputs_hidden": false
    }
   },
   "outputs": [],
   "source": [
    "#open data\n",
    "data = pd.read_csv(\"data.csv\")\n",
    "#change minutes to numerics \n",
    "data[\"Min\"] = data[\"Min\"].apply(lambda x: x.replace(\",\", \"\")).astype(int)\n",
    "\n",
    "data = data.loc[data[\"Min\"] > 500]\n",
    "data = data.reset_index(drop = True)\n",
    "data = data.apply(pd.to_numeric, errors='coerce')\n",
    "data = data.fillna(0)\n",
    "X = data.iloc[:, 11:]"
   ]
  },
  {
   "cell_type": "markdown",
   "metadata": {},
   "source": [
    "## Dimensionality reduction\n",
    "Since we have over 100 features, it is important to reduce the dimensionality. First standard scaling \n",
    "is applied to data.\n",
    "Then, we use UMAP algorithm, as in John Muller's article, to reduce the dimensions to 2. As the next step we plot\n",
    "the data with formation label available in the dataset. \n",
    "\n"
   ]
  },
  {
   "cell_type": "code",
   "execution_count": 14,
   "metadata": {
    "collapsed": false,
    "jupyter": {
     "outputs_hidden": false
    }
   },
   "outputs": [
    {
     "data": {
      "image/png": "[encoded data removed]",
      "text/plain": [
       "<Figure size 1600x1200 with 1 Axes>"
      ]
     },
     "metadata": {},
     "output_type": "display_data"
    }
   ],
   "source": [
    "from umap import UMAP\n",
    "from sklearn.preprocessing import StandardScaler\n",
    "#scale data\n",
    "scaler = StandardScaler()\n",
    "X = scaler.fit_transform(X)\n",
    "#dim reduction\n",
    "reducer = UMAP(random_state = 2213)\n",
    "comps = reducer.fit_transform(X)\n",
    "\n",
    "#plotting\n",
    "fig, ax = plt.subplots(figsize = (16,12))\n",
    "#map position to color\n",
    "colors = {\"GK\": \"brown\", \"DF\": \"blue\", \"DF,MF\": \"aqua\", \"MF\": \"green\", \"MF,FW\": \"yellow\", \"FW,MF\": \"orange\", \"FW\": \"red\", 'DF,FW': \"purple\", 'FW,DF': \"pink\"}\n",
    "color_list = data.Pos.map(colors).to_list()\n",
    "\n",
    "#plot it\n",
    "for i in range(X.shape[0]):\n",
    "    ax.scatter(comps[i,0], comps[i,1], c = color_list[i], s = 10)\n",
    "ax.set_xlabel('U1')\n",
    "ax.set_ylabel('U2')\n",
    "#make legend\n",
    "markers = [plt.Line2D([0,0],[0,0],color=color, marker='o', linestyle='') for color in colors.values()]\n",
    "ax.legend(markers, colors.keys(), numpoints=1)\n",
    "plt.show()"
   ]
  },
  {
   "cell_type": "markdown",
   "metadata": {},
   "source": [
    "## Clustering\n",
    "From the plot we claim that there are 6 clusters. We use hierarchical clustering (Ward method) to predict which\n",
    "points belong to which cluster. Then, we plot the result of the clustering.\n",
    "\n"
   ]
  },
  {
   "cell_type": "code",
   "execution_count": null,
   "metadata": {
    "collapsed": false,
    "jupyter": {
     "outputs_hidden": false
    }
   },
   "outputs": [],
   "source": [
    "from sklearn.cluster import AgglomerativeClustering\n",
    "#declare object\n",
    "scan = AgglomerativeClustering(n_clusters=6)\n",
    "#make predictions\n",
    "labels = scan.fit_predict(comps)\n",
    "fig, ax = plt.subplots(figsize = (16,12))\n",
    "ax.scatter(comps[:, 0], comps[:, 1], c=labels, s=10, cmap='gist_rainbow');\n",
    "plt.show()"
   ]
  },
  {
   "cell_type": "markdown",
   "metadata": {},
   "source": [
    "## Labelling clusters\n",
    "To label the clusters, we saved predcitins together with player names. Looking for many characteristic players,\n",
    "we label them in 6 formations - goalkeepers, centre-backs, full-backs, defensive midfielders, attacking midfielders\n",
    "and strikers. \n",
    "\n"
   ]
  },
  {
   "cell_type": "code",
   "execution_count": null,
   "metadata": {
    "collapsed": false,
    "jupyter": {
     "outputs_hidden": false
    }
   },
   "outputs": [],
   "source": [
    "#explore the dataframe\n",
    "see = data.iloc[:, 0:5]\n",
    "see[\"label\"] = labels\n",
    "print(see.sample(frac = 1).head(10))\n",
    "\n",
    "#plot predictions with a legend\n",
    "fig, ax = plt.subplots(figsize = (16,12))\n",
    "scatter = ax.scatter(comps[:, 0], comps[:, 1], c=labels, s=10, cmap='gist_rainbow');\n",
    "handles = scatter.legend_elements()[0]\n",
    "#order the labels for hierarchy\n",
    "myorder = [3,0,1,2,4,5]\n",
    "handles = [handles[i] for i in myorder]\n",
    "#add legend\n",
    "ax.legend(handles=handles, labels = [\"GK\", \"CB\", \"FB\", \"DM\", \"AM\", \"ST\"])\n",
    "plt.show()"
   ]
  },
  {
   "cell_type": "markdown",
   "metadata": {},
   "source": [
    "## A different approach to the same problem - dimensionality reduction\n",
    "We can also approach this problem using different techniques. First, we reduce the dimensions using a pipeline of PCA\n",
    "and tSNE. We also plot it the same way we did it for UMAP. \n",
    "\n"
   ]
  },
  {
   "cell_type": "code",
   "execution_count": null,
   "metadata": {
    "collapsed": false,
    "jupyter": {
     "outputs_hidden": false
    }
   },
   "outputs": [],
   "source": [
    "from sklearn.decomposition import PCA\n",
    "from sklearn.manifold import TSNE\n",
    "from sklearn.pipeline import Pipeline\n",
    "#declare dim reduction objects\n",
    "pca = PCA()\n",
    "tsne = TSNE(random_state = 3454)\n",
    "#declare pipeline\n",
    "ts = Pipeline([    ('pca', pca),\n",
    "    ('tsne', tsne)\n",
    "])\n",
    "#reduce dimensions\n",
    "comps = ts.fit_transform(X)\n",
    "#plot it\n",
    "fig, ax = plt.subplots(figsize = (16,12))\n",
    "for i in range(X.shape[0]):\n",
    "    ax.scatter(comps[i,0], comps[i,1], c = color_list[i], s = 10)\n",
    "ax.set_xlabel('t1')\n",
    "ax.set_ylabel('t2')\n",
    "markers = [plt.Line2D([0,0],[0,0],color=color, marker='o', linestyle='') for color in colors.values()]\n",
    "ax.legend(markers, colors.keys(), numpoints=1)\n",
    "plt.show()"
   ]
  },
  {
   "cell_type": "markdown",
   "metadata": {},
   "source": [
    "## A different approach to the same problem - clustering\n",
    "This time we cluster the data using Gaussian Mixture Model clustering. It is the same model as in Muller's article. \n",
    "We also plot the predictions on the 2 dimensional space. \n",
    "\n"
   ]
  },
  {
   "cell_type": "code",
   "execution_count": null,
   "metadata": {
    "collapsed": false,
    "jupyter": {
     "outputs_hidden": false
    }
   },
   "outputs": [],
   "source": [
    "from sklearn.mixture import GaussianMixture\n",
    "#declare object\n",
    "gmm = GaussianMixture(n_components=6, random_state=5).fit(comps)\n",
    "#make predictions\n",
    "labels = gmm.predict(comps)\n",
    "fig, ax = plt.subplots(figsize = (16,12))\n",
    "plt.scatter(comps[:, 0], comps[:, 1], c=labels, s=10, cmap='gist_rainbow');\n",
    "plt.show()"
   ]
  },
  {
   "cell_type": "markdown",
   "metadata": {},
   "source": [
    "## A different approach to the same problem - labelling\n",
    "Here, we repeat steps we did previously to label the clusters. First, we investigate the dataframe with predictions,\n",
    "then, we plot our clusters with labels.\n",
    "\n"
   ]
  },
  {
   "cell_type": "code",
   "execution_count": null,
   "metadata": {
    "collapsed": false,
    "jupyter": {
     "outputs_hidden": false
    }
   },
   "outputs": [],
   "source": [
    "see = data.iloc[:, 0:5]\n",
    "see[\"label\"] = labels\n",
    "print(see.sample(frac = 1).head(10))\n",
    "\n",
    "#explore the dataframe\n",
    "fig, ax = plt.subplots(figsize = (16,12))\n",
    "scatter = ax.scatter(comps[:, 0], comps[:, 1], c=labels, s=10, cmap='gist_rainbow');\n",
    "handles = scatter.legend_elements()[0]\n",
    "#order the labels for hierarchy\n",
    "myorder = [4,2,5,1,0,3]\n",
    "handles = [handles[i] for i in myorder]\n",
    "ax.legend(handles=handles, labels = [\"GK\", \"CB\", \"FB\", \"DM\", \"AM\", \"ST\"])\n",
    "plt.show()"
   ]
  }
 ],
 "metadata": {
  "kernelspec": {
   "display_name": "Python 3 (ipykernel)",
   "language": "python",
   "name": "python3"
  },
  "language_info": {
   "codemirror_mode": {
    "name": "ipython",
    "version": 3
   },
   "file_extension": ".py",
   "mimetype": "text/x-python",
   "name": "python",
   "nbconvert_exporter": "python",
   "pygments_lexer": "ipython3",
   "version": "3.11.9"
  }
 },
 "nbformat": 4,
 "nbformat_minor": 4
}
